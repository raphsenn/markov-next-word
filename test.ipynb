{
 "cells": [
  {
   "cell_type": "code",
   "execution_count": 3,
   "metadata": {},
   "outputs": [
    {
     "name": "stdout",
     "output_type": "stream",
     "text": [
      "[('like', 0.4), ('love', 0.4), ('hate', 0.2)]\n",
      "[('war', 1.0)]\n"
     ]
    }
   ],
   "source": [
    "from src.markov_next_word import MarkovNextWord\n",
    "\n",
    "mnw = MarkovNextWord()\n",
    "mnw.train(\"data/test.txt\")\n",
    "print(mnw.predict_next_words('I'))\n",
    "print(mnw.predict_next_words('hate'))"
   ]
  },
  {
   "cell_type": "code",
   "execution_count": null,
   "metadata": {},
   "outputs": [],
   "source": [
    "print(mnw.word_to_next_word_prob)"
   ]
  }
 ],
 "metadata": {
  "kernelspec": {
   "display_name": "Python 3",
   "language": "python",
   "name": "python3"
  },
  "language_info": {
   "codemirror_mode": {
    "name": "ipython",
    "version": 3
   },
   "file_extension": ".py",
   "mimetype": "text/x-python",
   "name": "python",
   "nbconvert_exporter": "python",
   "pygments_lexer": "ipython3",
   "version": "3.11.8"
  }
 },
 "nbformat": 4,
 "nbformat_minor": 2
}
