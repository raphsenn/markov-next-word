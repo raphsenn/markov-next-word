{
 "cells": [
  {
   "cell_type": "markdown",
   "metadata": {},
   "source": [
    "# Next Word Prediction using Markov-Chains"
   ]
  },
  {
   "cell_type": "code",
   "execution_count": 59,
   "metadata": {},
   "outputs": [],
   "source": [
    "from src.markov_next_word import MarkovNextWord"
   ]
  },
  {
   "cell_type": "code",
   "execution_count": 60,
   "metadata": {},
   "outputs": [
    {
     "name": "stdout",
     "output_type": "stream",
     "text": [
      "{'i': ['like', 'like', 'hate', 'love', 'love'], 'like': ['math', 'physics'], 'hate': ['war'], 'love': ['schnitzel', 'science']}\n",
      "{('i', 'like'): 0.4, ('i', 'hate'): 0.2, ('i', 'love'): 0.4, ('like', 'math'): 0.5, ('like', 'physics'): 0.5, ('hate', 'war'): 1.0, ('love', 'schnitzel'): 0.5, ('love', 'science'): 0.5}\n"
     ]
    }
   ],
   "source": [
    "mnw_test = MarkovNextWord()\n",
    "mnw_test.train('data/test.txt')\n",
    "\n",
    "print(mnw_test.word_to_nextwords)\n",
    "print(mnw_test.word_to_next_word_prob)"
   ]
  },
  {
   "cell_type": "code",
   "execution_count": 61,
   "metadata": {},
   "outputs": [
    {
     "name": "stdout",
     "output_type": "stream",
     "text": [
      "i ->  [('love', 0.4), ('like', 0.4), ('hate', 0.2)]\n",
      "love ->  [('schnitzel', 0.5), ('science', 0.5)]\n",
      "hate ->  [('war', 1.0)]\n",
      "like ->  [('math', 0.5), ('physics', 0.5)]\n"
     ]
    }
   ],
   "source": [
    "print('i -> ', mnw_test.predict_next_words('i'))\n",
    "print('love -> ', mnw_test.predict_next_words('love'))\n",
    "print('hate -> ', mnw_test.predict_next_words('hate'))\n",
    "print('like -> ', mnw_test.predict_next_words('like'))"
   ]
  },
  {
   "cell_type": "markdown",
   "metadata": {},
   "source": [
    "## Generating shakespeare"
   ]
  },
  {
   "cell_type": "code",
   "execution_count": 62,
   "metadata": {},
   "outputs": [],
   "source": [
    "# Create markov model.\n",
    "mnw = MarkovNextWord()\n",
    "\n",
    "# Train markov model.\n",
    "mnw.train(\"data/shakespeare.txt\")"
   ]
  },
  {
   "cell_type": "markdown",
   "metadata": {},
   "source": [
    "## Input: morning"
   ]
  },
  {
   "cell_type": "code",
   "execution_count": 63,
   "metadata": {},
   "outputs": [
    {
     "name": "stdout",
     "output_type": "stream",
     "text": [
      "morning have thy self and i love s best that thou "
     ]
    }
   ],
   "source": [
    "mnw.generate_text('morning', 10)"
   ]
  },
  {
   "cell_type": "markdown",
   "metadata": {},
   "source": [
    "## Input: the"
   ]
  },
  {
   "cell_type": "code",
   "execution_count": 64,
   "metadata": {},
   "outputs": [
    {
     "name": "stdout",
     "output_type": "stream",
     "text": [
      "the world may be thy self love to the time s "
     ]
    }
   ],
   "source": [
    "mnw.generate_text('the', 10)"
   ]
  },
  {
   "cell_type": "markdown",
   "metadata": {},
   "source": [
    "## Input: love"
   ]
  },
  {
   "cell_type": "code",
   "execution_count": 65,
   "metadata": {},
   "outputs": [
    {
     "name": "stdout",
     "output_type": "stream",
     "text": [
      "love to my self to my friend and in thy heart "
     ]
    }
   ],
   "source": [
    "mnw.generate_text('love', 10)"
   ]
  }
 ],
 "metadata": {
  "kernelspec": {
   "display_name": "Python 3",
   "language": "python",
   "name": "python3"
  },
  "language_info": {
   "codemirror_mode": {
    "name": "ipython",
    "version": 3
   },
   "file_extension": ".py",
   "mimetype": "text/x-python",
   "name": "python",
   "nbconvert_exporter": "python",
   "pygments_lexer": "ipython3",
   "version": "3.11.8"
  }
 },
 "nbformat": 4,
 "nbformat_minor": 2
}
