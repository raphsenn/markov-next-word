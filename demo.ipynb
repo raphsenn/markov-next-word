{
 "cells": [
  {
   "cell_type": "markdown",
   "metadata": {},
   "source": [
    "# Next Word Prediction using Markov-Chains"
   ]
  },
  {
   "cell_type": "code",
   "execution_count": 9,
   "metadata": {},
   "outputs": [],
   "source": [
    "from src.markov_next_word import MarkovNextWord\n",
    "\n",
    "# Create markov model.\n",
    "mnw = MarkovNextWord()\n",
    "\n",
    "# Train markov model.\n",
    "mnw.train(\"data/shakespeare.txt\")"
   ]
  },
  {
   "cell_type": "markdown",
   "metadata": {},
   "source": [
    "## Input: morning"
   ]
  },
  {
   "cell_type": "code",
   "execution_count": 10,
   "metadata": {},
   "outputs": [
    {
     "name": "stdout",
     "output_type": "stream",
     "text": [
      "morning sun is in thee that i am not to be "
     ]
    }
   ],
   "source": [
    "mnw.generate_text('morning', 10)"
   ]
  },
  {
   "cell_type": "markdown",
   "metadata": {},
   "source": [
    "## Input: the"
   ]
  },
  {
   "cell_type": "code",
   "execution_count": 11,
   "metadata": {},
   "outputs": [
    {
     "name": "stdout",
     "output_type": "stream",
     "text": [
      "the very same groan doth beauty s eye doth lie hid the other as the world may be the time s eye the world should that which is the sun is the very the other place with my love and in the world s "
     ]
    }
   ],
   "source": [
    "mnw.generate_text('the', 10)\n",
    "print()\n",
    "mnw.generate_text('the', 10)\n",
    "mnw.generate_text('the', 10)\n",
    "mnw.generate_text('the', 10)"
   ]
  },
  {
   "cell_type": "markdown",
   "metadata": {},
   "source": [
    "## Input: lost"
   ]
  },
  {
   "cell_type": "code",
   "execution_count": 12,
   "metadata": {},
   "outputs": [
    {
     "name": "stdout",
     "output_type": "stream",
     "text": [
      "lost the world s eye doth lie with thee that thou "
     ]
    }
   ],
   "source": [
    "mnw.generate_text('lost', 10)"
   ]
  }
 ],
 "metadata": {
  "kernelspec": {
   "display_name": "Python 3",
   "language": "python",
   "name": "python3"
  },
  "language_info": {
   "codemirror_mode": {
    "name": "ipython",
    "version": 3
   },
   "file_extension": ".py",
   "mimetype": "text/x-python",
   "name": "python",
   "nbconvert_exporter": "python",
   "pygments_lexer": "ipython3",
   "version": "3.11.8"
  }
 },
 "nbformat": 4,
 "nbformat_minor": 2
}
